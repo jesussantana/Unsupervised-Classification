{
 "metadata": {
  "language_info": {
   "codemirror_mode": {
    "name": "ipython",
    "version": 3
   },
   "file_extension": ".py",
   "mimetype": "text/x-python",
   "name": "python",
   "nbconvert_exporter": "python",
   "pygments_lexer": "ipython3",
   "version": "3.8.5"
  },
  "orig_nbformat": 4,
  "kernelspec": {
   "name": "python3",
   "display_name": "Python 3.8.5 64-bit"
  },
  "interpreter": {
   "hash": "31f2aee4e71d21fbe5cf8b01ff0e069b9275f58929596ceb00d14d90e3e16cd6"
  }
 },
 "nbformat": 4,
 "nbformat_minor": 2,
 "cells": [
  {
   "source": [
    "# [IT Academy - Data Science with Python](https://www.barcelonactiva.cat/es/itacademy)\n",
    "## S15 T01: Unsupervised Classification\n",
    "### [Github Advanced Machine Learning](https://github.com/jesussantana/Unsupervised-Classification)\n",
    "[![forthebadge made-with-python](http://ForTheBadge.com/images/badges/made-with-python.svg)](https://www.python.org/)  \n",
    "[![Made withJupyter](https://img.shields.io/badge/Made%20with-Jupyter-orange?style=for-the-badge&logo=Jupyter)](https://jupyter.org/try)  \n",
    "[![wakatime](https://wakatime.com/badge/github/jesussantana/Unsupervised-Classification.svg)](https://wakatime.com/badge/github/jesussantana/Unsupervised-Classification)"
   ],
   "cell_type": "markdown",
   "metadata": {}
  },
  {
   "source": [
    "## Auto Import Python Libraries"
   ],
   "cell_type": "markdown",
   "metadata": {}
  },
  {
   "source": [
    "https://pypi.org/project/pyforest/"
   ],
   "cell_type": "markdown",
   "metadata": {}
  },
  {
   "cell_type": "code",
   "execution_count": 1,
   "metadata": {},
   "outputs": [],
   "source": [
    "#%pip install --upgrade pyforest\n",
    "#!python -m pyforest install_extensions"
   ]
  },
  {
   "cell_type": "code",
   "execution_count": 2,
   "metadata": {},
   "outputs": [],
   "source": [
    "# Import Dependencies\n",
    "# ==============================================================================\n",
    "\n",
    "from pyforest import *"
   ]
  },
  {
   "cell_type": "code",
   "execution_count": 3,
   "metadata": {},
   "outputs": [
    {
     "output_type": "execute_result",
     "data": {
      "text/plain": [
       "['from sklearn.preprocessing import RobustScaler',\n",
       " 'from sklearn.ensemble import RandomForestClassifier',\n",
       " 'import os',\n",
       " 'import pickle',\n",
       " 'from sklearn.preprocessing import StandardScaler',\n",
       " 'import xgboost as xgb',\n",
       " 'from sklearn.linear_model import ElasticNetCV',\n",
       " 'import keras',\n",
       " 'import textblob',\n",
       " 'import fastai',\n",
       " 'import cv2',\n",
       " 'import seaborn as sns',\n",
       " 'from sklearn.model_selection import GridSearchCV',\n",
       " 'from sklearn.impute import SimpleImputer',\n",
       " 'from sklearn import svm',\n",
       " 'import pydot',\n",
       " 'from scipy import signal as sg',\n",
       " 'from sklearn.ensemble import GradientBoostingClassifier',\n",
       " 'import gensim',\n",
       " 'from sklearn.linear_model import Lasso',\n",
       " 'from sklearn.linear_model import LogisticRegression',\n",
       " 'from sklearn.ensemble import GradientBoostingRegressor',\n",
       " 'import tqdm',\n",
       " 'import imutils',\n",
       " 'import awswrangler as wr',\n",
       " 'import nltk',\n",
       " 'from statsmodels.tsa.arima_model import ARIMA',\n",
       " 'from sklearn.model_selection import StratifiedKFold',\n",
       " 'import re',\n",
       " 'import statsmodels.api as sm',\n",
       " 'from sklearn.preprocessing import OneHotEncoder',\n",
       " 'from sklearn.linear_model import RidgeCV',\n",
       " 'import torch',\n",
       " 'from xlrd import open_workbook',\n",
       " 'from sklearn.linear_model import LassoCV',\n",
       " 'from sklearn.manifold import TSNE',\n",
       " 'from sklearn.preprocessing import LabelEncoder',\n",
       " 'from pyspark import SparkContext',\n",
       " 'from scipy import stats',\n",
       " 'from sklearn.model_selection import cross_val_score',\n",
       " 'from dask import dataframe as dd',\n",
       " 'import sklearn',\n",
       " 'from sklearn.model_selection import train_test_split',\n",
       " 'from pathlib import Path',\n",
       " 'from sklearn.preprocessing import MinMaxScaler',\n",
       " 'import matplotlib as mpl',\n",
       " 'import pandas as pd',\n",
       " 'from sklearn.decomposition import PCA',\n",
       " 'import skimage',\n",
       " 'import fbprophet',\n",
       " 'from fbprophet import Prophet',\n",
       " 'from sklearn.linear_model import Ridge',\n",
       " 'from sklearn.linear_model import ElasticNet',\n",
       " 'import tensorflow as tf',\n",
       " 'import plotly.express as px',\n",
       " 'import datetime as dt',\n",
       " 'import spacy',\n",
       " 'from sklearn.feature_extraction.text import TfidfVectorizer',\n",
       " 'import lightgbm as lgb',\n",
       " 'import bokeh',\n",
       " 'from sklearn import metrics',\n",
       " 'import sys',\n",
       " 'from openpyxl import load_workbook',\n",
       " 'from sklearn.preprocessing import PolynomialFeatures',\n",
       " 'import plotly.graph_objs as go',\n",
       " 'import altair as alt',\n",
       " 'import glob',\n",
       " 'import numpy as np',\n",
       " 'from sklearn.model_selection import RandomizedSearchCV',\n",
       " 'import statistics',\n",
       " 'import plotly as py',\n",
       " 'import matplotlib.pyplot as plt',\n",
       " 'from sklearn.ensemble import RandomForestRegressor',\n",
       " 'from sklearn.feature_extraction.text import CountVectorizer',\n",
       " 'import dash',\n",
       " 'from sklearn.cluster import KMeans',\n",
       " 'from sklearn.model_selection import KFold',\n",
       " 'from sklearn.linear_model import LinearRegression',\n",
       " 'from PIL import Image']"
      ]
     },
     "metadata": {},
     "execution_count": 3
    }
   ],
   "source": [
    "# Check imported dependencies\n",
    "lazy_imports()"
   ]
  },
  {
   "cell_type": "code",
   "execution_count": 4,
   "metadata": {},
   "outputs": [
    {
     "output_type": "display_data",
     "data": {
      "text/plain": "<IPython.core.display.Javascript object>",
      "application/javascript": "\n        if (window._pyforest_update_imports_cell) { window._pyforest_update_imports_cell('import pandas as pd'); }\n    "
     },
     "metadata": {}
    },
    {
     "output_type": "display_data",
     "data": {
      "text/plain": "<IPython.core.display.Javascript object>",
      "application/javascript": "\n        if (window._pyforest_update_imports_cell) { window._pyforest_update_imports_cell('import matplotlib.pyplot as plt\\nimport pandas as pd'); }\n    "
     },
     "metadata": {}
    },
    {
     "output_type": "display_data",
     "data": {
      "text/plain": "<IPython.core.display.Javascript object>",
      "application/javascript": "\n        if (window._pyforest_update_imports_cell) { window._pyforest_update_imports_cell('import matplotlib.pyplot as plt\\nimport pandas as pd'); }\n    "
     },
     "metadata": {}
    },
    {
     "output_type": "display_data",
     "data": {
      "text/plain": "<IPython.core.display.Javascript object>",
      "application/javascript": "\n        if (window._pyforest_update_imports_cell) { window._pyforest_update_imports_cell('import seaborn as sns\\nimport matplotlib.pyplot as plt\\nimport pandas as pd'); }\n    "
     },
     "metadata": {}
    }
   ],
   "source": [
    "# Pandas configuration\n",
    "# ==============================================================================\n",
    "pd.set_option('display.max_columns', None)\n",
    "\n",
    "# Matplotlib configuration\n",
    "# ==============================================================================\n",
    "plt.rcParams['image.cmap'] = \"bwr\"\n",
    "#plt.rcParams['figure.dpi'] = \"100\"\n",
    "plt.rcParams['savefig.bbox'] = \"tight\"\n",
    "#style.use('ggplot') or plt.style.use('ggplot')\n",
    "%matplotlib inline\n",
    "\n",
    "# Seaborn configuration\n",
    "# ==============================================================================\n",
    "sns.set_theme(style='darkgrid', palette='deep')\n",
    "dims = (20, 16)\n",
    "\n",
    "# Warnings configuration\n",
    "# ==============================================================================\n",
    "import warnings\n",
    "warnings.filterwarnings('ignore')\n",
    "\n",
    "# Folder configuration\n",
    "# ==============================================================================\n",
    "from os import path\n",
    "import sys\n",
    "new_path = '../scripts/'\n",
    "if new_path not in sys.path:\n",
    "    sys.path.append(new_path)"
   ]
  },
  {
   "source": [
    "## Classify the different flights\n",
    "\n",
    "### Exercise 1: \n",
    "  - Classify the different flights using the K-means algorithm.\n",
    "\n",
    "\n",
    "### Exercise 2: \n",
    "  - Classify the different flights using the hierarchical clustering algorithm.\n",
    "\n",
    "\n",
    "### Exercise 3: \n",
    "  - Calculate clustering performance using a parameter such as silhouette."
   ],
   "cell_type": "markdown",
   "metadata": {}
  },
  {
   "cell_type": "code",
   "execution_count": 5,
   "metadata": {},
   "outputs": [
    {
     "output_type": "display_data",
     "data": {
      "text/plain": "<IPython.core.display.Javascript object>",
      "application/javascript": "\n        if (window._pyforest_update_imports_cell) { window._pyforest_update_imports_cell('import seaborn as sns\\nimport matplotlib.pyplot as plt\\nimport pandas as pd'); }\n    "
     },
     "metadata": {}
    }
   ],
   "source": [
    "# Path folder configuration\n",
    "# ===============================================================================\n",
    "\n",
    "path = '../data/'\n",
    "file = 'raw/DelayedFlights.csv'\n",
    "\n",
    "df_raw = pd.read_csv(path+file)"
   ]
  },
  {
   "cell_type": "code",
   "execution_count": 6,
   "metadata": {},
   "outputs": [],
   "source": [
    "df = df_raw.copy()"
   ]
  },
  {
   "source": [],
   "cell_type": "markdown",
   "metadata": {}
  },
  {
   "source": [
    "## Exploratory analysis"
   ],
   "cell_type": "markdown",
   "metadata": {}
  },
  {
   "cell_type": "code",
   "execution_count": 7,
   "metadata": {},
   "outputs": [
    {
     "output_type": "execute_result",
     "data": {
      "text/plain": [
       "   Unnamed: 0  Year  Month  DayofMonth  DayOfWeek  DepTime  CRSDepTime  \\\n",
       "0           0  2008      1           3          4   2003.0        1955   \n",
       "1           1  2008      1           3          4    754.0         735   \n",
       "2           2  2008      1           3          4    628.0         620   \n",
       "3           4  2008      1           3          4   1829.0        1755   \n",
       "4           5  2008      1           3          4   1940.0        1915   \n",
       "\n",
       "   ArrTime  CRSArrTime UniqueCarrier  FlightNum TailNum  ActualElapsedTime  \\\n",
       "0   2211.0        2225            WN        335  N712SW              128.0   \n",
       "1   1002.0        1000            WN       3231  N772SW              128.0   \n",
       "2    804.0         750            WN        448  N428WN               96.0   \n",
       "3   1959.0        1925            WN       3920  N464WN               90.0   \n",
       "4   2121.0        2110            WN        378  N726SW              101.0   \n",
       "\n",
       "   CRSElapsedTime  AirTime  ArrDelay  DepDelay Origin Dest  Distance  TaxiIn  \\\n",
       "0           150.0    116.0     -14.0       8.0    IAD  TPA       810     4.0   \n",
       "1           145.0    113.0       2.0      19.0    IAD  TPA       810     5.0   \n",
       "2            90.0     76.0      14.0       8.0    IND  BWI       515     3.0   \n",
       "3            90.0     77.0      34.0      34.0    IND  BWI       515     3.0   \n",
       "4           115.0     87.0      11.0      25.0    IND  JAX       688     4.0   \n",
       "\n",
       "   TaxiOut  Cancelled CancellationCode  Diverted  CarrierDelay  WeatherDelay  \\\n",
       "0      8.0          0                N         0           NaN           NaN   \n",
       "1     10.0          0                N         0           NaN           NaN   \n",
       "2     17.0          0                N         0           NaN           NaN   \n",
       "3     10.0          0                N         0           2.0           0.0   \n",
       "4     10.0          0                N         0           NaN           NaN   \n",
       "\n",
       "   NASDelay  SecurityDelay  LateAircraftDelay  \n",
       "0       NaN            NaN                NaN  \n",
       "1       NaN            NaN                NaN  \n",
       "2       NaN            NaN                NaN  \n",
       "3       0.0            0.0               32.0  \n",
       "4       NaN            NaN                NaN  "
      ],
      "text/html": "<div>\n<style scoped>\n    .dataframe tbody tr th:only-of-type {\n        vertical-align: middle;\n    }\n\n    .dataframe tbody tr th {\n        vertical-align: top;\n    }\n\n    .dataframe thead th {\n        text-align: right;\n    }\n</style>\n<table border=\"1\" class=\"dataframe\">\n  <thead>\n    <tr style=\"text-align: right;\">\n      <th></th>\n      <th>Unnamed: 0</th>\n      <th>Year</th>\n      <th>Month</th>\n      <th>DayofMonth</th>\n      <th>DayOfWeek</th>\n      <th>DepTime</th>\n      <th>CRSDepTime</th>\n      <th>ArrTime</th>\n      <th>CRSArrTime</th>\n      <th>UniqueCarrier</th>\n      <th>FlightNum</th>\n      <th>TailNum</th>\n      <th>ActualElapsedTime</th>\n      <th>CRSElapsedTime</th>\n      <th>AirTime</th>\n      <th>ArrDelay</th>\n      <th>DepDelay</th>\n      <th>Origin</th>\n      <th>Dest</th>\n      <th>Distance</th>\n      <th>TaxiIn</th>\n      <th>TaxiOut</th>\n      <th>Cancelled</th>\n      <th>CancellationCode</th>\n      <th>Diverted</th>\n      <th>CarrierDelay</th>\n      <th>WeatherDelay</th>\n      <th>NASDelay</th>\n      <th>SecurityDelay</th>\n      <th>LateAircraftDelay</th>\n    </tr>\n  </thead>\n  <tbody>\n    <tr>\n      <th>0</th>\n      <td>0</td>\n      <td>2008</td>\n      <td>1</td>\n      <td>3</td>\n      <td>4</td>\n      <td>2003.0</td>\n      <td>1955</td>\n      <td>2211.0</td>\n      <td>2225</td>\n      <td>WN</td>\n      <td>335</td>\n      <td>N712SW</td>\n      <td>128.0</td>\n      <td>150.0</td>\n      <td>116.0</td>\n      <td>-14.0</td>\n      <td>8.0</td>\n      <td>IAD</td>\n      <td>TPA</td>\n      <td>810</td>\n      <td>4.0</td>\n      <td>8.0</td>\n      <td>0</td>\n      <td>N</td>\n      <td>0</td>\n      <td>NaN</td>\n      <td>NaN</td>\n      <td>NaN</td>\n      <td>NaN</td>\n      <td>NaN</td>\n    </tr>\n    <tr>\n      <th>1</th>\n      <td>1</td>\n      <td>2008</td>\n      <td>1</td>\n      <td>3</td>\n      <td>4</td>\n      <td>754.0</td>\n      <td>735</td>\n      <td>1002.0</td>\n      <td>1000</td>\n      <td>WN</td>\n      <td>3231</td>\n      <td>N772SW</td>\n      <td>128.0</td>\n      <td>145.0</td>\n      <td>113.0</td>\n      <td>2.0</td>\n      <td>19.0</td>\n      <td>IAD</td>\n      <td>TPA</td>\n      <td>810</td>\n      <td>5.0</td>\n      <td>10.0</td>\n      <td>0</td>\n      <td>N</td>\n      <td>0</td>\n      <td>NaN</td>\n      <td>NaN</td>\n      <td>NaN</td>\n      <td>NaN</td>\n      <td>NaN</td>\n    </tr>\n    <tr>\n      <th>2</th>\n      <td>2</td>\n      <td>2008</td>\n      <td>1</td>\n      <td>3</td>\n      <td>4</td>\n      <td>628.0</td>\n      <td>620</td>\n      <td>804.0</td>\n      <td>750</td>\n      <td>WN</td>\n      <td>448</td>\n      <td>N428WN</td>\n      <td>96.0</td>\n      <td>90.0</td>\n      <td>76.0</td>\n      <td>14.0</td>\n      <td>8.0</td>\n      <td>IND</td>\n      <td>BWI</td>\n      <td>515</td>\n      <td>3.0</td>\n      <td>17.0</td>\n      <td>0</td>\n      <td>N</td>\n      <td>0</td>\n      <td>NaN</td>\n      <td>NaN</td>\n      <td>NaN</td>\n      <td>NaN</td>\n      <td>NaN</td>\n    </tr>\n    <tr>\n      <th>3</th>\n      <td>4</td>\n      <td>2008</td>\n      <td>1</td>\n      <td>3</td>\n      <td>4</td>\n      <td>1829.0</td>\n      <td>1755</td>\n      <td>1959.0</td>\n      <td>1925</td>\n      <td>WN</td>\n      <td>3920</td>\n      <td>N464WN</td>\n      <td>90.0</td>\n      <td>90.0</td>\n      <td>77.0</td>\n      <td>34.0</td>\n      <td>34.0</td>\n      <td>IND</td>\n      <td>BWI</td>\n      <td>515</td>\n      <td>3.0</td>\n      <td>10.0</td>\n      <td>0</td>\n      <td>N</td>\n      <td>0</td>\n      <td>2.0</td>\n      <td>0.0</td>\n      <td>0.0</td>\n      <td>0.0</td>\n      <td>32.0</td>\n    </tr>\n    <tr>\n      <th>4</th>\n      <td>5</td>\n      <td>2008</td>\n      <td>1</td>\n      <td>3</td>\n      <td>4</td>\n      <td>1940.0</td>\n      <td>1915</td>\n      <td>2121.0</td>\n      <td>2110</td>\n      <td>WN</td>\n      <td>378</td>\n      <td>N726SW</td>\n      <td>101.0</td>\n      <td>115.0</td>\n      <td>87.0</td>\n      <td>11.0</td>\n      <td>25.0</td>\n      <td>IND</td>\n      <td>JAX</td>\n      <td>688</td>\n      <td>4.0</td>\n      <td>10.0</td>\n      <td>0</td>\n      <td>N</td>\n      <td>0</td>\n      <td>NaN</td>\n      <td>NaN</td>\n      <td>NaN</td>\n      <td>NaN</td>\n      <td>NaN</td>\n    </tr>\n  </tbody>\n</table>\n</div>"
     },
     "metadata": {},
     "execution_count": 7
    }
   ],
   "source": [
    "df.head()"
   ]
  },
  {
   "cell_type": "code",
   "execution_count": 8,
   "metadata": {},
   "outputs": [],
   "source": [
    "df = df_raw.drop(labels='Unnamed: 0', axis=1)"
   ]
  },
  {
   "cell_type": "code",
   "execution_count": 9,
   "metadata": {},
   "outputs": [
    {
     "output_type": "stream",
     "name": "stdout",
     "text": [
      "<class 'pandas.core.frame.DataFrame'>\nRangeIndex: 1936758 entries, 0 to 1936757\nData columns (total 29 columns):\n #   Column             Dtype  \n---  ------             -----  \n 0   Year               int64  \n 1   Month              int64  \n 2   DayofMonth         int64  \n 3   DayOfWeek          int64  \n 4   DepTime            float64\n 5   CRSDepTime         int64  \n 6   ArrTime            float64\n 7   CRSArrTime         int64  \n 8   UniqueCarrier      object \n 9   FlightNum          int64  \n 10  TailNum            object \n 11  ActualElapsedTime  float64\n 12  CRSElapsedTime     float64\n 13  AirTime            float64\n 14  ArrDelay           float64\n 15  DepDelay           float64\n 16  Origin             object \n 17  Dest               object \n 18  Distance           int64  \n 19  TaxiIn             float64\n 20  TaxiOut            float64\n 21  Cancelled          int64  \n 22  CancellationCode   object \n 23  Diverted           int64  \n 24  CarrierDelay       float64\n 25  WeatherDelay       float64\n 26  NASDelay           float64\n 27  SecurityDelay      float64\n 28  LateAircraftDelay  float64\ndtypes: float64(14), int64(10), object(5)\nmemory usage: 428.5+ MB\n"
     ]
    }
   ],
   "source": [
    "df.info()"
   ]
  },
  {
   "cell_type": "code",
   "execution_count": 10,
   "metadata": {},
   "outputs": [
    {
     "output_type": "execute_result",
     "data": {
      "text/plain": [
       "(1936758, 29)"
      ]
     },
     "metadata": {},
     "execution_count": 10
    }
   ],
   "source": [
    "df.shape"
   ]
  },
  {
   "cell_type": "code",
   "execution_count": 11,
   "metadata": {},
   "outputs": [
    {
     "output_type": "execute_result",
     "data": {
      "text/plain": [
       "Year                      0\n",
       "Month                     0\n",
       "DayofMonth                0\n",
       "DayOfWeek                 0\n",
       "DepTime                   0\n",
       "CRSDepTime                0\n",
       "Distance                  0\n",
       "CRSArrTime                0\n",
       "UniqueCarrier             0\n",
       "FlightNum                 0\n",
       "Dest                      0\n",
       "Diverted                  0\n",
       "Origin                    0\n",
       "CancellationCode          0\n",
       "Cancelled                 0\n",
       "DepDelay                  0\n",
       "TailNum                   5\n",
       "CRSElapsedTime          198\n",
       "TaxiOut                 455\n",
       "TaxiIn                 7110\n",
       "ArrTime                7110\n",
       "ArrDelay               8387\n",
       "AirTime                8387\n",
       "ActualElapsedTime      8387\n",
       "CarrierDelay         689270\n",
       "WeatherDelay         689270\n",
       "NASDelay             689270\n",
       "SecurityDelay        689270\n",
       "LateAircraftDelay    689270\n",
       "dtype: int64"
      ]
     },
     "metadata": {},
     "execution_count": 11
    }
   ],
   "source": [
    "df.isna().sum().sort_values()"
   ]
  },
  {
   "source": [
    "### Sample Dataset to be able to work with him"
   ],
   "cell_type": "markdown",
   "metadata": {}
  },
  {
   "cell_type": "code",
   "execution_count": 12,
   "metadata": {},
   "outputs": [],
   "source": [
    "df = df.sample(frac=0.001, random_state = 6858)\n",
    "df.to_csv(path + \"interim/DelayedFlights_Sample.csv\", index = False, header = True)"
   ]
  },
  {
   "source": [
    "### Drop features that we do not adds value"
   ],
   "cell_type": "markdown",
   "metadata": {}
  },
  {
   "cell_type": "code",
   "execution_count": 13,
   "metadata": {},
   "outputs": [],
   "source": [
    "df.drop(axis=1,columns=['Year','Cancelled','CancellationCode','TailNum','FlightNum'], inplace=True)"
   ]
  },
  {
   "cell_type": "code",
   "execution_count": 14,
   "metadata": {},
   "outputs": [
    {
     "output_type": "stream",
     "name": "stdout",
     "text": [
      "<class 'pandas.core.frame.DataFrame'>\nInt64Index: 1937 entries, 32721 to 693767\nData columns (total 24 columns):\n #   Column             Non-Null Count  Dtype  \n---  ------             --------------  -----  \n 0   Month              1937 non-null   int64  \n 1   DayofMonth         1937 non-null   int64  \n 2   DayOfWeek          1937 non-null   int64  \n 3   DepTime            1937 non-null   float64\n 4   CRSDepTime         1937 non-null   int64  \n 5   ArrTime            1931 non-null   float64\n 6   CRSArrTime         1937 non-null   int64  \n 7   UniqueCarrier      1937 non-null   object \n 8   ActualElapsedTime  1931 non-null   float64\n 9   CRSElapsedTime     1937 non-null   float64\n 10  AirTime            1931 non-null   float64\n 11  ArrDelay           1931 non-null   float64\n 12  DepDelay           1937 non-null   float64\n 13  Origin             1937 non-null   object \n 14  Dest               1937 non-null   object \n 15  Distance           1937 non-null   int64  \n 16  TaxiIn             1931 non-null   float64\n 17  TaxiOut            1936 non-null   float64\n 18  Diverted           1937 non-null   int64  \n 19  CarrierDelay       1269 non-null   float64\n 20  WeatherDelay       1269 non-null   float64\n 21  NASDelay           1269 non-null   float64\n 22  SecurityDelay      1269 non-null   float64\n 23  LateAircraftDelay  1269 non-null   float64\ndtypes: float64(14), int64(7), object(3)\nmemory usage: 378.3+ KB\n"
     ]
    }
   ],
   "source": [
    "df.info()"
   ]
  },
  {
   "cell_type": "code",
   "execution_count": 15,
   "metadata": {},
   "outputs": [
    {
     "output_type": "execute_result",
     "data": {
      "text/plain": [
       "(1937, 24)"
      ]
     },
     "metadata": {},
     "execution_count": 15
    }
   ],
   "source": [
    "df.shape"
   ]
  },
  {
   "cell_type": "code",
   "execution_count": 16,
   "metadata": {},
   "outputs": [
    {
     "output_type": "execute_result",
     "data": {
      "text/plain": [
       "Month                  0\n",
       "DayofMonth             0\n",
       "DayOfWeek              0\n",
       "DepTime                0\n",
       "CRSDepTime             0\n",
       "ArrTime                6\n",
       "CRSArrTime             0\n",
       "UniqueCarrier          0\n",
       "ActualElapsedTime      6\n",
       "CRSElapsedTime         0\n",
       "AirTime                6\n",
       "ArrDelay               6\n",
       "DepDelay               0\n",
       "Origin                 0\n",
       "Dest                   0\n",
       "Distance               0\n",
       "TaxiIn                 6\n",
       "TaxiOut                1\n",
       "Diverted               0\n",
       "CarrierDelay         668\n",
       "WeatherDelay         668\n",
       "NASDelay             668\n",
       "SecurityDelay        668\n",
       "LateAircraftDelay    668\n",
       "dtype: int64"
      ]
     },
     "metadata": {},
     "execution_count": 16
    }
   ],
   "source": [
    "df.isna().sum()"
   ]
  }
 ]
}